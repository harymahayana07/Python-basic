{
 "cells": [
  {
   "cell_type": "code",
   "execution_count": 9,
   "metadata": {},
   "outputs": [],
   "source": [
    "# x = \"17\"\n",
    "# c = 17\n",
    "# d = 12.4\n",
    "# tambah = x + str(d)\n",
    "\n",
    "# print(type(d))\n",
    "# print(type(c))\n",
    "# print(type(x))\n",
    "# print(tambah)\n",
    "# daftar_pembelian = [\"kangkung\", \"daging\", \"tempe\", \"telur\"]\n",
    "\n",
    "# daftar_isi = daftar_pembelian.copy()\n",
    "# daftar_isi.append(\"Babi\")\n",
    "# daftar_isi.remove(\"telur\")\n",
    "# print(daftar_isi)\n",
    "# a = 6\n",
    "# a = 1\n",
    "# print(a)\n",
    "\n",
    "# def matematika(a,b):\n",
    "#     penjumlahan = a + b\n",
    "#     pengurangan = a - b\n",
    "#     pembagian = a / b\n",
    "#     return penjumlahan\n",
    "# print(matematika(6,7))\n",
    "\n",
    "def greet(who):\n",
    "    print('Hello', who)\n",
    "greet(\"hary\")"
   ]
  },
  {
   "cell_type": "markdown",
   "metadata": {},
   "source": []
  },
  {
   "cell_type": "code",
   "execution_count": null,
   "metadata": {},
   "outputs": [],
   "source": []
  }
 ],
 "metadata": {
  "kernelspec": {
   "display_name": "Python 3.9.12 ('base')",
   "language": "python",
   "name": "python3"
  },
  "language_info": {
   "codemirror_mode": {
    "name": "ipython",
    "version": 3
   },
   "file_extension": ".py",
   "mimetype": "text/x-python",
   "name": "python",
   "nbconvert_exporter": "python",
   "pygments_lexer": "ipython3",
   "version": "3.9.12"
  },
  "orig_nbformat": 4,
  "vscode": {
   "interpreter": {
    "hash": "52d90d3cc821dd0beedd6e719dbdecc722c226b9d90ed1b663c34e1877f1142e"
   }
  }
 },
 "nbformat": 4,
 "nbformat_minor": 2
}
