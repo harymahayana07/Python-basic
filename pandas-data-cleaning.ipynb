{
 "cells": [
  {
   "cell_type": "code",
   "execution_count": 2,
   "metadata": {},
   "outputs": [
    {
     "name": "stdout",
     "output_type": "stream",
     "text": [
      "     battery_power  blue  clock_speed  dual_sim  fc  four_g  int_memory  \\\n",
      "0              842     0          2.2         0   1       0           7   \n",
      "1             1021     1          0.5         1   0       1          53   \n",
      "2              563     1          0.5         1   2       1          41   \n",
      "3              615     1          2.5         0   0       0          10   \n",
      "4             1821     1          1.2         0  13       1          44   \n",
      "..             ...   ...          ...       ...  ..     ...         ...   \n",
      "297           1329     1          1.0         0   1       0          52   \n",
      "298            928     1          0.5         1  11       0          56   \n",
      "299           1656     1          0.5         1   8       1          38   \n",
      "300           1937     1          1.7         0  17       0          58   \n",
      "301            977     1          1.1         1   2       0          57   \n",
      "\n",
      "     m_dep  mobile_wt  n_cores  ...  px_height  px_width   ram  sc_h  sc_w  \\\n",
      "0      0.6        188        2  ...         20       756  2549     9     7   \n",
      "1      0.7        136        3  ...        905      1988  2631    17     3   \n",
      "2      0.9        145        5  ...       1263      1716  2603    11     2   \n",
      "3      0.8        131        6  ...       1216      1786  2769    16     8   \n",
      "4      0.6        141        2  ...       1208      1212  1411     8     2   \n",
      "..     ...        ...      ...  ...        ...       ...   ...   ...   ...   \n",
      "297    0.9        181        6  ...       1053      1458  1228     8     6   \n",
      "298    0.7         80        8  ...        221      1243   666    19    10   \n",
      "299    0.1        105        7  ...        506       519  1499    12     8   \n",
      "300    0.6        189        1  ...       1728      1767  3321     5     4   \n",
      "301    0.6        181        6  ...         63       566  1206     7     1   \n",
      "\n",
      "     talk_time  three_g  touch_screen  wifi  price_class  \n",
      "0           19        0             0     1            0  \n",
      "1            7        1             1     0            1  \n",
      "2            9        1             1     0            1  \n",
      "3           11        1             0     0            1  \n",
      "4           15        1             1     0            0  \n",
      "..         ...      ...           ...   ...          ...  \n",
      "297          6        1             0     1            0  \n",
      "298          5        0             1     0            0  \n",
      "299         19        1             0     1            0  \n",
      "300         14        1             1     0            1  \n",
      "301          8        0             1     1            0  \n",
      "\n",
      "[302 rows x 21 columns]\n"
     ]
    },
    {
     "ename": "TypeError",
     "evalue": "'Index' object is not callable",
     "output_type": "error",
     "traceback": [
      "\u001b[1;31m---------------------------------------------------------------------------\u001b[0m",
      "\u001b[1;31mTypeError\u001b[0m                                 Traceback (most recent call last)",
      "\u001b[1;32mc:\\xampp\\htdocs\\sanbercode\\pandas-data-cleaning.ipynb Cell 1\u001b[0m in \u001b[0;36m<cell line: 17>\u001b[1;34m()\u001b[0m\n\u001b[0;32m     <a href='vscode-notebook-cell:/c%3A/xampp/htdocs/sanbercode/pandas-data-cleaning.ipynb#W0sZmlsZQ%3D%3D?line=13'>14</a>\u001b[0m raw_data\u001b[39m.\u001b[39mshape\n\u001b[0;32m     <a href='vscode-notebook-cell:/c%3A/xampp/htdocs/sanbercode/pandas-data-cleaning.ipynb#W0sZmlsZQ%3D%3D?line=15'>16</a>\u001b[0m \u001b[39m# check column\u001b[39;00m\n\u001b[1;32m---> <a href='vscode-notebook-cell:/c%3A/xampp/htdocs/sanbercode/pandas-data-cleaning.ipynb#W0sZmlsZQ%3D%3D?line=16'>17</a>\u001b[0m raw_data\u001b[39m.\u001b[39;49mcolumns()\n\u001b[0;32m     <a href='vscode-notebook-cell:/c%3A/xampp/htdocs/sanbercode/pandas-data-cleaning.ipynb#W0sZmlsZQ%3D%3D?line=18'>19</a>\u001b[0m \u001b[39m# check data kosong\u001b[39;00m\n\u001b[0;32m     <a href='vscode-notebook-cell:/c%3A/xampp/htdocs/sanbercode/pandas-data-cleaning.ipynb#W0sZmlsZQ%3D%3D?line=19'>20</a>\u001b[0m raw_data\u001b[39m.\u001b[39misna()\n",
      "\u001b[1;31mTypeError\u001b[0m: 'Index' object is not callable"
     ]
    }
   ],
   "source": [
    "\n",
    "# import image module\n",
    "from IPython.display import Image\n",
    "Image(url=\"download.png\", width=500,height=300)\n",
    "\n",
    "# import pandas\n",
    "import pandas as pd\n",
    "raw_data = pd.read_csv('tugas2.csv')\n",
    "# raw_data.loc[0:3,\"battery_power\":\"clock_speed\"]\n",
    "\n",
    "# check data pertama dataframe\n",
    "\n",
    "print(raw_data)\n",
    "\n",
    "# 10 data pertama\n",
    "\n",
    "raw_data.head(10)\n",
    "# 10 data terakhir\n",
    "raw_data.tail(10)\n",
    "# jumlah ukuran dari sebuah data check\n",
    "raw_data.shape\n",
    "\n",
    "# check column\n",
    "raw_data.columns()\n",
    "\n",
    "# check data kosong\n",
    "raw_data.isna()\n",
    "# check data kosong dan check jumlah data yang kosong\n",
    "raw_data.isna().sum()\n",
    "\n",
    "# tampilkan jumlah data,rata-rata,standar deviasi, nilai min & max\n",
    "# dari data perkolom\n",
    "raw_data.describe()\n",
    "\n",
    "# akumulasi jumlah data per row harga\n",
    "raw_data['int_memory'].sum()\n",
    "# hitung jumlah tiap kolom\n",
    "raw_data['int_memory'].value_counts()\n",
    "# mencari variansi\n",
    "raw_data['int_memory']\n",
    "# standar deviasi manual\n",
    "raw_data['int_memory'].std()\n",
    "# hubungan antar variabel\n",
    "raw_data.cov()\n",
    "# nilai yang menunjukan data positif adalah yang saling berhubungan secara kuat.\n",
    "# bernilai 0 tidak terdapat hubungan\n",
    "# bernilai negatif tidak ada hubungan sama sekali\n",
    "raw_data.cor()\n"
   ]
  }
 ],
 "metadata": {
  "kernelspec": {
   "display_name": "Python 3.9.12 ('base')",
   "language": "python",
   "name": "python3"
  },
  "language_info": {
   "codemirror_mode": {
    "name": "ipython",
    "version": 3
   },
   "file_extension": ".py",
   "mimetype": "text/x-python",
   "name": "python",
   "nbconvert_exporter": "python",
   "pygments_lexer": "ipython3",
   "version": "3.9.12"
  },
  "orig_nbformat": 4,
  "vscode": {
   "interpreter": {
    "hash": "52d90d3cc821dd0beedd6e719dbdecc722c226b9d90ed1b663c34e1877f1142e"
   }
  }
 },
 "nbformat": 4,
 "nbformat_minor": 2
}
