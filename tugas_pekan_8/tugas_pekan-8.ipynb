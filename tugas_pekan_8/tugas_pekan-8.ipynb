{
 "cells": [
  {
   "attachments": {},
   "cell_type": "markdown",
   "metadata": {},
   "source": [
    "#### Sebutkan metrics untuk klasifikasi dan Regresi, Jelaskan perbedaannya!\n",
    "\n",
    "Jawaban :\n",
    "- Metrics Untuk Klasifikasi yaitu confusion matrix, dimana confusion matrix ini bertujuan untuk mengetahui seberapa baik model yang telah kita buat. Confusion Matrix merepresentasikan prediksi dan kondisi sebenarnya(aktual) dari data yang dihasilkan oleh algoritma ML. Berdasarkan Confusion Matrix, kita bisa menentukan :\n",
    "1. Accuracy (Akurasi model untuk mengetahui seberapa akurat),\n",
    "2. Precision (menggambarkan tingkat keakuratan antara data yang diminta dengan hasil prediksi yang diberikan oleh model),\n",
    "3. Recall (Sensitifitas / menggambarkan keberhasilan model dalam menemukan kembali sebuah informasi),\n",
    "4. Specificity (kebenaran memprediksi negatif dibandingkan dengan keseluruhan data negatif), dan\n",
    "5. F1 Score (perbandingan rata-rata presisi dan recall yang dibobotkan).\n",
    "    Dalam confusion matrix tabel menunjukan TP (True Positif) yaitu data positif yang diprediksi benar. TN (True Negatif ) data negatif yang diprediksi benar, FP (False Positif) yaitu data negatif namun diprediksi sebagai data positif FN (False Negatif) yaitu data positif namun diprediksi sebagai data negatif.\n",
    "\n",
    "- Metrics atau untuk mengukur kinerja model Untuk Regresi yaitu menggunakan metode seperti \n",
    "1. MAE  (Mean Absolute Error/ mengukur seberapa dekat prediksi dengan hasil aktual; dengan demikian, skor yang lebih rendah lebih baik),\n",
    "2. RMSE (Root Mean Square Error/ membuat nilai tunggal yang meringkas kesalahan dalam model. Dengan mengkuadratkan selisihnya, metrik mengabaikan perbedaan antara prediksi yang berlebihan dan prediksi yang kurang.),\n",
    "3. MSE (Mean Square Error/ error kuadrat dirata-ratakan), Dan\n",
    "4. R squared (dihitung dengan mengkuadratkan koefisien korelasinya).\n",
    "\n",
    "Dalam membandingkan metrics regresi kita membandingkan nilai actual dan prediction konsepnya sama seperti klasifikasi, namun bukan nilai benar atau salah. nilainya kita sebut sebagai error."
   ]
  },
  {
   "attachments": {},
   "cell_type": "markdown",
   "metadata": {},
   "source": [
    "#### Apa itu Forecasting?!\n",
    " Jawaban :\n",
    "- Forescasting atau sering kita sebut dengan peramalan ataupun prediksi merupakan salah satu metode dalam data mining yang digunakan untuk meramalkan atau memperkirakan sesuatu yang belum terjadi berdasarkan pola-pola di dalam sekumpulan data yang telah dikumpulkan sebelumnya. metode yang bisa menerapkan algoritma untuk prediksi/forecasting yaitu Algoritma C 4.5, Random forest, Naive bayes, KNN, K-Means, dan masih banyak lagi. forecasting banyak sekali digunakaan dimasa sekarang ini seperti untuk memprediksi penyakit, memprediksi mahasiswa penerima beasiswa, prediksi gempa, prediksi covid-19, prediksi harga barang, dan masih banyak lagi."
   ]
  },
  {
   "attachments": {},
   "cell_type": "markdown",
   "metadata": {},
   "source": [
    "#### Data Forecasting menggunakan tipe data kategorik, numerik atau time series. Jelaskan mengapa demikian?\n",
    "Jawaban :\n",
    "- Data forecasting biasanya digunakan untuk memprediksi atau meramalkan rentetan kejadian atau pengamatan yang diambil secara sekuensial terhadap waktu. Dalam Data Forecasting sendiri menggunakan atribut-atribut atau parameter penentu, contohnya data pembelian barang tentu parameter dalam menentukan kenaikannya data pembeliannya kemungkinan berisi data kategorik(contohnya dalam data pembelian barang seperti jenis/paket barang) dan data numerik(contohnya jumlah barang/item yang telah terjual, dll) serta untuk data timeseries biasanya digunakan sebagai target ramalan atau prediksi untuk tahun/bulan kedepannya."
   ]
  }
 ],
 "metadata": {
  "kernelspec": {
   "display_name": "Python 3.9.12 ('base')",
   "language": "python",
   "name": "python3"
  },
  "language_info": {
   "codemirror_mode": {
    "name": "ipython",
    "version": 3
   },
   "file_extension": ".py",
   "mimetype": "text/x-python",
   "name": "python",
   "nbconvert_exporter": "python",
   "pygments_lexer": "ipython3",
   "version": "3.9.12 (main, Apr  4 2022, 05:22:27) [MSC v.1916 64 bit (AMD64)]"
  },
  "orig_nbformat": 4,
  "vscode": {
   "interpreter": {
    "hash": "52d90d3cc821dd0beedd6e719dbdecc722c226b9d90ed1b663c34e1877f1142e"
   }
  }
 },
 "nbformat": 4,
 "nbformat_minor": 2
}
